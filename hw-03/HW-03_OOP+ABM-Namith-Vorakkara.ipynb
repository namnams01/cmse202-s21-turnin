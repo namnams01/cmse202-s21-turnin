{
 "cells": [
  {
   "cell_type": "markdown",
   "metadata": {},
   "source": [
    "### <p style=\"text-align: right;\"> &#9989; Namith vorakkara</p>"
   ]
  },
  {
   "cell_type": "markdown",
   "metadata": {},
   "source": [
    "# Homework Assignment #3 (Individual)\n",
    "## Simulating animal populations using OOP and ABM "
   ]
  },
  {
   "cell_type": "markdown",
   "metadata": {},
   "source": [
    "<img src=\"http://worth1000.s3.amazonaws.com/submissions/12027500/12027970_5e94_1024x2000.jpg\" width=300px align='left'  style=\"margin-right: 20px\" >\n",
    "\n",
    "## WOLFY against SHEEPY\n",
    "\n",
    "### Goal for this homework assignment\n",
    "By now, you have learned OOP and ABM through the assignments of assembling Zoo and Superbugs, respectively. Let us use what you learned to build a simple model of population competition between prey and predator. \n",
    "\n",
    "**This assignment is due roughly two weeks from now at 11:59 pm on Friday, March 12.** It should be uploaded into the \"Homework Assignments\" submission folder for Homework #3.  Submission instructions can be found at the end of the notebook. **The distribution of points can be found in the section headers**.\n",
    "\n",
    "**After the sheep and wolf objects are properly built, you should be able to see the sheep and wolf roaming and change of their populations like the video at the link.**"
   ]
  },
  {
   "cell_type": "code",
   "execution_count": 1,
   "metadata": {},
   "outputs": [
    {
     "data": {
      "image/jpeg": "[encoded data removed]",
      "text/html": [
       "\n",
       "        <iframe\n",
       "            width=\"600\"\n",
       "            height=\"450\"\n",
       "            src=\"https://www.youtube.com/embed/wFxDKmgskDg\"\n",
       "            frameborder=\"0\"\n",
       "            allowfullscreen\n",
       "        ></iframe>\n",
       "        "
      ],
      "text/plain": [
       "<IPython.lib.display.YouTubeVideo at 0x7fb8848a8470>"
      ]
     },
     "execution_count": 1,
     "metadata": {},
     "output_type": "execute_result"
    }
   ],
   "source": [
    "from IPython.display import YouTubeVideo\n",
    "YouTubeVideo(\"wFxDKmgskDg\",width=600,height=450)"
   ]
  },
  {
   "cell_type": "markdown",
   "metadata": {},
   "source": [
    "**At the end of the assignment, if everything went as intended, you should have a population evolution plot like the one below.** \n",
    "\n",
    "<img src=\"https://i.ibb.co/jw1hTBJ/Popula-1.jpg\" alt=\"Popula-1\" border=\"0\" width=300px>\n",
    "\n",
    "This plot and the previous video, should help you to determine if your code is headed in the right direction!"
   ]
  },
  {
   "cell_type": "markdown",
   "metadata": {},
   "source": [
    "---\n",
    "## Part 1: Add to your Git repository to track your progress on your assignment (5 points)\n",
    "\n",
    "As usual, for this assignment, you're going to add it to the `cmse202-s21-turnin` repository you created in class so that you can track your progress on the assignment and preserve the final version that you turn in. In order to do this you need to\n",
    "\n",
    "**&#9989; Do the following**:\n",
    "\n",
    "1. Navigate to your `cmse202-s21-turnin` repository and create a new directory called `hw-03`.\n",
    "2. Move this notebook into that **new directory** in your repository, then **add it and commit it to your repository**.\n",
    "1. Finally, to test that everything is working, \"git push\" the file so that it ends up in your GitHub repository.\n",
    "\n",
    "**Important**: Make sure you've added your Professor and your TA as collaborators to your \"turnin\" respository with \"Read\" access so that we can see your assignment (you should have done this in the previous homework assignment)\n",
    "\n",
    "**Also important**: Make sure that the version of this notebook that you are working on is the same one that you just added to your repository! If you are working on a different copy of the noteobok, **none of your changes will be tracked**!\n",
    "\n",
    "If everything went as intended, the file should now show up on your GitHub account in the \"`cmse202-s21-turnin`\" repository inside the `hw-03` directory that you just created.  Periodically, **you'll be asked to commit your changes to the repository and push them to the remote GitHub location**. Of course, you can always commit your changes more often than that, if you wish.  It can be good to get into a habit of committing your changes any time you make a significant modification, or when you stop working on the project for a bit.\n",
    "\n",
    "**Do this**: Before you move on, put the command that your instructor should run to clone your repository in the empty cell below."
   ]
  },
  {
   "cell_type": "code",
   "execution_count": null,
   "metadata": {},
   "outputs": [],
   "source": [
    "# Put the command for cloning your repository here!\n",
    "#git clone https://github.com/namnams01/cmse202-s21-turnin.git\n"
   ]
  },
  {
   "cell_type": "markdown",
   "metadata": {},
   "source": [
    "---\n",
    "## Part 2: Load necessary modules\n",
    "\n",
    "Execute the next two Code cells to load python packages for math and visualization functions."
   ]
  },
  {
   "cell_type": "code",
   "execution_count": 2,
   "metadata": {},
   "outputs": [],
   "source": [
    "import random \n",
    "import numpy as np\n",
    "import math\n",
    "import matplotlib.pyplot as plt\n",
    "import time  \n",
    "from IPython.display import display, clear_output"
   ]
  },
  {
   "cell_type": "markdown",
   "metadata": {},
   "source": [
    "The Code cell below is found online, which allows scatter plot using image as the markers.\n",
    "#### Do not forget to download the image files of Wolfy.ipg and Sheepy.ipg"
   ]
  },
  {
   "cell_type": "code",
   "execution_count": 3,
   "metadata": {},
   "outputs": [],
   "source": [
    "from matplotlib.offsetbox import OffsetImage, AnnotationBbox\n",
    "from matplotlib.cbook import get_sample_data\n",
    "\n",
    "def imscatter(x, y, image, ax=None, zoom=1):\n",
    "    if ax is None:\n",
    "        ax = plt.gca()\n",
    "    try:\n",
    "        image = plt.imread(image)\n",
    "    except TypeError:\n",
    "        # Likely already an array...\n",
    "        pass\n",
    "    im = OffsetImage(image, zoom=zoom)\n",
    "    x, y = np.atleast_1d(x, y)\n",
    "    artists = []\n",
    "    for x0, y0 in zip(x, y):\n",
    "        ab = AnnotationBbox(im, (x0, y0), xycoords='data', \\\n",
    "                            frameon=False)\n",
    "        artists.append(ax.add_artist(ab))\n",
    "    ax.update_datalim(np.column_stack([x, y]))\n",
    "    ax.autoscale()\n",
    "    return artists"
   ]
  },
  {
   "cell_type": "markdown",
   "metadata": {},
   "source": [
    "---\n",
    "## Part 3: Problem Statement\n",
    "\n",
    "You are creating a simple ecosystem containing only two types of animals on the computer.  \n",
    "\n",
    "1. **On a prairie, there are sheeps and wolves.** ==> You will create sheep and wolf objects.\n",
    "1. **Sheeps and wolves roam around.** ==> Both objetcs will have a method of roaming. \n",
    "1. **The animals reproduce.** ==> Both objectcs will have a method of reproduce/duplicate over a given period. \n",
    "1. **Let's set a boundary of the prairie.** ==> The prairie domain is $20 <x < 100$ and $20 < y < 120$.\n",
    "1. **Note here** your main tasks are creating sheep and wolf objects. The code to verify the created classes and run simulations is already functioning. No need to modify them. You are encouraged to take a look of those code to ensure your objects will be compatible with them before you create the objects.\n"
   ]
  },
  {
   "cell_type": "markdown",
   "metadata": {},
   "source": [
    "You will need a copy of the following sheep and wolf images to visualize your results for this problem, you should be able to download them using the links that are being used to embed them in this notebook!\n",
    "\n",
    "<img src=\"https://i.ibb.co/RTtMDVz/sheepy.jpg\" alt=\"sheepy\" border=\"0\">\n",
    "<img src=\"https://i.ibb.co/NSNtQmt/wolfy.jpg\" alt=\"wolfy\" border=\"0\">"
   ]
  },
  {
   "cell_type": "code",
   "execution_count": 3,
   "metadata": {},
   "outputs": [
    {
     "name": "stdout",
     "output_type": "stream",
     "text": [
      "  % Total    % Received % Xferd  Average Speed   Time    Time     Time  Current\n",
      "                                 Dload  Upload   Total   Spent    Left  Speed\n",
      "100 12885  100 12885    0     0  85900      0 --:--:-- --:--:-- --:--:-- 85900\n",
      "  % Total    % Received % Xferd  Average Speed   Time    Time     Time  Current\n",
      "                                 Dload  Upload   Total   Spent    Left  Speed\n",
      "100 12852  100 12852    0     0   137k      0 --:--:-- --:--:-- --:--:--  137k\n"
     ]
    }
   ],
   "source": [
    "!curl https://i.ibb.co/RTtMDVz/sheepy.jpg -O\n",
    "!curl https://i.ibb.co/NSNtQmt/wolfy.jpg -O"
   ]
  },
  {
   "cell_type": "markdown",
   "metadata": {},
   "source": [
    "---\n",
    "## Part 3.1 Sheep object (25 pt)\n",
    "**Step by step. Let's start with creating a `sheep` object.** The object should contain the attributes of\n",
    "- Position: in the 2D case it can be `x` and `y`. For simplicity, we will set the grid (positions) on the 2D plane only on integer points; for example, (35, 72), (24, 67), (43, 82), etc.\n",
    "- Initial position: you need to give an initial position when this object is created. Use random integer number generator to assignment the initial position. **Don't forget that the position needs to be limited within the prairie:** $20 <x < 100$ **and** $20 < y < 120$.\n",
    "- **Important**: Add Docstring to explain your code. Without any Docstring, **your score will be compromized**. \n",
    "- Add a method for drawing to your sheep object. The example code is provided in the cell below. It is important that you make sure this method is called `draw()`."
   ]
  },
  {
   "cell_type": "code",
   "execution_count": 4,
   "metadata": {},
   "outputs": [],
   "source": [
    "### example code for drawing. Add this to you sheep object. \n",
    "### Not meant to be excuted in this cell.\n",
    "\n",
    "    #def draw(self):\n",
    "        #image_path = 'sheepy.jpg'\n",
    "        #imscatter(self.x, self.y, image_path, zoom=0.8)"
   ]
  },
  {
   "cell_type": "markdown",
   "metadata": {},
   "source": [
    "- **Create a sheep object in the cell below** which has an initial position and can be drawn ."
   ]
  },
  {
   "cell_type": "code",
   "execution_count": 33,
   "metadata": {},
   "outputs": [],
   "source": [
    "### put your code of creating sheep object in this cell (5 pt)\n",
    "\n",
    "class sheep():\n",
    "    ## DocString\n",
    "    '''this init function intializes and sets de facto values for the attributes.'''\n",
    "    def __init__(self):\n",
    "        self.x = random.randint(20,100)\n",
    "        '''using the generator randint to generate a position for x and y'''\n",
    "        self.y = random.randint(20,120)\n",
    "        \n",
    "    \n",
    "    \n",
    "    ## methods\n",
    "    def draw(self):\n",
    "        image_path = 'sheepy.jpg'\n",
    "        imscatter(self.x, self.y, image_path, zoom=0.8)"
   ]
  },
  {
   "cell_type": "markdown",
   "metadata": {},
   "source": [
    "---\n",
    "### &#128721; STOP\n",
    "**Pause to commit your changes to your Git repository!**\n",
    "\n",
    "Take a moment to save your notebook, commit the changes to your Git repository using the commit message \"version 1 of sheep\", and push the changes to GitHub.\n",
    "\n",
    "---"
   ]
  },
  {
   "cell_type": "markdown",
   "metadata": {},
   "source": [
    "- Initialize your sheep object."
   ]
  },
  {
   "cell_type": "code",
   "execution_count": 35,
   "metadata": {},
   "outputs": [
    {
     "data": {
      "image/png": "[encoded data removed]",
      "text/plain": [
       "<Figure size 432x288 with 1 Axes>"
      ]
     },
     "metadata": {
      "needs_background": "light"
     },
     "output_type": "display_data"
    }
   ],
   "source": [
    "### initialize a sheep and draw it\n",
    "\n",
    "sp = sheep()\n",
    "sp.draw()"
   ]
  },
  {
   "cell_type": "markdown",
   "metadata": {},
   "source": [
    "---\n",
    "- Roaming: You need to add a method of roaming to your sheep object.\n",
    "- The sheep should take a random step when the `roaming()` method is called. It will move by either -1, 0, or 1 in both x and y directions. Again, you can use random integer number generator to generator the step and update the sheep position. See the image below to get a concept of roaming.\n",
    "\n",
    "<img src=\"https://i.ibb.co/09nrzbb/Moving-Step.jpg\" alt=\"Moving-Step\" border=\"0\" width=500px>\n",
    "\n",
    "- Here we will set up an invisible fence to confine the sheep from lost. The sheep cannot go outside the range of $20 < x < 100$ and $20 < y < 120$. You probably need several if-loops to prevent the sheep from going outside the prairie. For example,\n",
    "\n",
    "<div style=\"background-color:rgba(0, 0, 0, 0.0470588); padding:10px 0;font-family:monospace;\">\n",
    "<font color = \"blue\">if s_x < 20: </font><br>\n",
    "&nbsp;&nbsp;&nbsp;&nbsp; <font color = \"blue\"> s_x = 20</font>\n",
    "</div>\n",
    "\n",
    "- Copy your sheep object to the cell below and add a method of roaming."
   ]
  },
  {
   "cell_type": "code",
   "execution_count": 36,
   "metadata": {},
   "outputs": [],
   "source": [
    "### copy your sheep object here and add roaming function (10 pt)\n",
    "class sheep():\n",
    "    ## DocString\n",
    "    '''this init function intializes and sets de facto values for the attributes.'''\n",
    "    def __init__(self):\n",
    "        self.x = random.randint(20,100)\n",
    "        '''using the generator randint to generate a position for x and y'''\n",
    "        self.y = random.randint(20,120)\n",
    "    \n",
    "    \n",
    "    ## methods\n",
    "    def draw(self):\n",
    "        image_path = 'sheepy.jpg'\n",
    "        imscatter(self.x, self.y, image_path, zoom=0.8)\n",
    "    \n",
    "    def roaming(self):\n",
    "        dx = random.randint(-1,1)\n",
    "        dy = random.randint(-1,1)\n",
    "        self.x = self.x + dx\n",
    "        self.y = self.y + dy\n",
    "        \n",
    "        if self.x < 20:\n",
    "            self.x = 20\n",
    "        if self.x > 100:\n",
    "            self.x = 100\n",
    "        if self.y < 20:\n",
    "            self.y = 20\n",
    "        if self.y > 120:\n",
    "            self.y = 120\n",
    "        \n",
    "        return(self.x,self.y)\n",
    "            \n"
   ]
  },
  {
   "cell_type": "code",
   "execution_count": 38,
   "metadata": {},
   "outputs": [
    {
     "data": {
      "text/plain": [
       "(87, 108)"
      ]
     },
     "execution_count": 38,
     "metadata": {},
     "output_type": "execute_result"
    }
   ],
   "source": [
    "sp = sheep()\n",
    "sp.roaming()"
   ]
  },
  {
   "cell_type": "markdown",
   "metadata": {},
   "source": [
    "- Initialize your new sheep object\n",
    "- Test to see whether it roams in the cell below."
   ]
  },
  {
   "cell_type": "code",
   "execution_count": 39,
   "metadata": {},
   "outputs": [
    {
     "data": {
      "image/png": "[encoded data removed]",
      "text/plain": [
       "<Figure size 432x432 with 1 Axes>"
      ]
     },
     "metadata": {
      "needs_background": "light"
     },
     "output_type": "display_data"
    }
   ],
   "source": [
    "### run your roaming method 40 times\n",
    "\n",
    "## initialize sheep\n",
    "sp = sheep()\n",
    "\n",
    "## iterate over 40 time steps\n",
    "for d in range(40):\n",
    "  \n",
    "    ## the next 2 lines are for plotting\n",
    "    clear_output(wait=True)  \n",
    "    plt.figure(figsize=(6, 6))    \n",
    "\n",
    "    \n",
    "    ## call the roaming method and then draw here  \n",
    "    sp.roaming()\n",
    "    sp.draw()\n",
    "    \n",
    "    \n",
    "    ## the next 5 lines are for plotting\n",
    "    plt.axes().set_aspect('equal')\n",
    "    plt.axes().set_xlim([-0,120])\n",
    "    plt.axes().set_ylim([-0,140])\n",
    "    plt.show()   \n",
    "    time.sleep(0.001)       \n",
    "    "
   ]
  },
  {
   "cell_type": "markdown",
   "metadata": {},
   "source": [
    "- Up to now, you should be able to see a sheep randomly walks on the prairie.\n",
    "- Next, you want to add a method for the sheep to reproduce. When this method is called, a new sheep is created from the old one. Call this method `reproduce()`.\n",
    "- Copy your sheep object to the cell below and add a method of reproduce.\n",
    "\n",
    "---\n",
    "### <font color='blue'>This one will be the final functioning sheep class.</font>\n"
   ]
  },
  {
   "cell_type": "code",
   "execution_count": 40,
   "metadata": {},
   "outputs": [],
   "source": [
    "### copy your sheep object here and add reproduce function (5 pt)\n",
    "class sheep():\n",
    "    ## DocString\n",
    "    '''this init function intializes and sets de facto values for the attributes.'''\n",
    "    def __init__(self):\n",
    "        self.x = random.randint(20,100)\n",
    "        '''using the generator randint to generate a position for x and y'''\n",
    "        self.y = random.randint(20,120)\n",
    "    \n",
    "    \n",
    "    ## methods\n",
    "    def draw(self):\n",
    "        image_path = 'sheepy.jpg'\n",
    "        imscatter(self.x, self.y, image_path, zoom=0.8)\n",
    "    \n",
    "    def roaming(self):\n",
    "        dx = random.randint(-1,1)\n",
    "        dy = random.randint(-1,1)\n",
    "        self.x = self.x + dx\n",
    "        self.y = self.y + dy\n",
    "        \n",
    "        if self.x < 20:\n",
    "            self.x = 20\n",
    "        if self.x > 100:\n",
    "            self.x = 100\n",
    "        if self.y < 20:\n",
    "            self.y = 20\n",
    "        if self.y > 120:\n",
    "            self.y = 120\n",
    "        \n",
    "        return(self.x,self.y)\n",
    "    \n",
    "    def reproduce(self):\n",
    "        return sheep()\n"
   ]
  },
  {
   "cell_type": "markdown",
   "metadata": {},
   "source": [
    "- Initialize the new sheep\n",
    "- Test to see whether the sheep reproduce."
   ]
  },
  {
   "cell_type": "code",
   "execution_count": 41,
   "metadata": {},
   "outputs": [
    {
     "data": {
      "image/png": "[encoded data removed]",
      "text/plain": [
       "<Figure size 432x432 with 1 Axes>"
      ]
     },
     "metadata": {
      "needs_background": "light"
     },
     "output_type": "display_data"
    }
   ],
   "source": [
    "### in this cell, run your roaming methoid 40 times\n",
    "\n",
    "## initialize your sheep\n",
    "sp = sheep()\n",
    "\n",
    "## create an empty list of flock\n",
    "flock = []\n",
    "\n",
    "## add sheep to the flock\n",
    "flock.append(sp)\n",
    "\n",
    "## iterate over 40 time steps\n",
    "for d in range(40):\n",
    "  \n",
    "    ## the next 2 lines are for plotting\n",
    "    clear_output(wait=True)  \n",
    "    plt.figure(figsize=(6, 6))    \n",
    "\n",
    "    \n",
    "    ## call the roaming method and then draw  \n",
    "    for s in range(np.size(flock)):\n",
    "        flock[s].roaming()\n",
    "        flock[s].draw()\n",
    "        \n",
    "     \n",
    "    ## call the reproduce method every 10 time steps\n",
    "    ## Here we assume sheep reproduce every 10 days\n",
    "    if np.mod(d,10) == 1:\n",
    "        ## call the reproduce method here\n",
    "        for i in range(np.size(flock)):\n",
    "            kid = flock[i].reproduce()\n",
    "            flock.append(kid)\n",
    "\n",
    "    \n",
    "    ## the next 5 lines are for plotting\n",
    "    plt.axes().set_aspect('equal')\n",
    "    plt.axes().set_xlim([-0,120])\n",
    "    plt.axes().set_ylim([-0,140])\n",
    "    plt.show()   \n",
    "    time.sleep(0.001)  "
   ]
  },
  {
   "cell_type": "markdown",
   "metadata": {},
   "source": [
    "**How many sheeps at the end?**\n",
    "put the number of sheep in the cell below. (5 pt)"
   ]
  },
  {
   "cell_type": "code",
   "execution_count": 43,
   "metadata": {},
   "outputs": [
    {
     "name": "stdout",
     "output_type": "stream",
     "text": [
      "16\n"
     ]
    }
   ],
   "source": [
    "print(len(flock))\n",
    "#16 sheeps at the end"
   ]
  },
  {
   "cell_type": "markdown",
   "metadata": {},
   "source": [
    "---\n",
    "### &#128721; STOP\n",
    "**Pause to commit your changes to your Git repository!**\n",
    "\n",
    "Take a moment to save your notebook, commit the changes to your Git repository using the commit message \"Final version of sheep\", and push the changes to GitHub.\n",
    "\n",
    "---"
   ]
  },
  {
   "cell_type": "markdown",
   "metadata": {},
   "source": [
    "---\n",
    "## Part 3.2 Wolf object (30 pt)\n",
    "**Create a `wolf` object.** The object should contain the same attributes (`x` and `y` position) and methods (`draw`, `roaming`, and `reproduce`) as the sheep.\n",
    "- **Important**: Add Docstring to explain your code. Otherwise, your score will be compromised. \n",
    "- **Replace the image_path with `wolfy.jpg`** in the draw function.\n",
    "- **Again, wolf can only roams inside the prairie.** Do not forget to prevent the wolf from roaming outside the prairie.\n",
    "- **Important, wolf moves twice fast.** Thus, in the roaming( ) method, you need to set $dx$ is either -2, -1, 0, 1, 2, and $dy$ is either -2, -1, 0, 1, 2."
   ]
  },
  {
   "cell_type": "code",
   "execution_count": null,
   "metadata": {},
   "outputs": [],
   "source": [
    "### create wolf object in this cell (5 pt)\n",
    "\n",
    "\n"
   ]
  },
  {
   "cell_type": "markdown",
   "metadata": {},
   "source": [
    "- **Test your wolf object in the cell below.**"
   ]
  },
  {
   "cell_type": "code",
   "execution_count": null,
   "metadata": {},
   "outputs": [],
   "source": [
    "### in this cell, run your roaming methoid 40 times\n",
    "\n",
    "## initialize your sheep\n",
    "sp = sheep()\n",
    "\n",
    "## create an empty list of flock\n",
    "flock = []\n",
    "\n",
    "## add sheep to the flock\n",
    "flock.append(sp)\n",
    "\n",
    "## initialize your wolf\n",
    "wf = wolf()\n",
    "\n",
    "## create an empty list of pack\n",
    "pack = []\n",
    "\n",
    "## add wolf to the pack\n",
    "pack.append(wf)\n",
    "\n",
    "\n",
    "## iterate over 40 time steps\n",
    "for d in range(40):\n",
    "  \n",
    "    ## the next 2 lines below are for plotting\n",
    "    clear_output(wait=True)  \n",
    "    plt.figure(figsize=(6, 6))    \n",
    "\n",
    "    \n",
    "    ## call the roaming method and then draw  \n",
    "    for s in range(np.size(flock)):\n",
    "        flock[s].roaming()\n",
    "        flock[s].draw()\n",
    "        \n",
    "     \n",
    "    ## call the reproduce method every 10 time steps\n",
    "    if np.mod(d,10) == 1:\n",
    "        ## call the reproduce method here\n",
    "        for i in range(np.size(flock)):\n",
    "            kid = flock[i].reproduce()\n",
    "            flock.append(kid)\n",
    "\n",
    "            \n",
    "    ## call the roaming method and then draw  \n",
    "    for w in range(np.size(pack)):\n",
    "        pack[w].roaming()\n",
    "        pack[w].draw()            \n",
    "\n",
    "    ## call the reproduce method every 20 time steps\n",
    "    ## Here we assume wolf reproduce every 20 days\n",
    "    if np.mod(d,20) == 1:\n",
    "        ## call the reproduce method here\n",
    "        for i in range(np.size(pack)):\n",
    "            pup = pack[i].reproduce()\n",
    "            pack.append(pup)\n",
    "            \n",
    "            \n",
    "    \n",
    "    ## the next 5 lines below are for plotting\n",
    "    plt.axes().set_aspect('equal')\n",
    "    plt.axes().set_xlim([-0,120])\n",
    "    plt.axes().set_ylim([-0,140])\n",
    "    plt.show()   \n",
    "    time.sleep(0.001)"
   ]
  },
  {
   "cell_type": "markdown",
   "metadata": {},
   "source": [
    "You should see sheeps and wolf roaming on the prairier.\n",
    "\n",
    "---\n",
    "- **Add an additional attribute `energ_lvl` to the wolf object**\n",
    "- Here I have provide and example of `set_energy()` in the cell below. Write a Docstring to clearly explain this method."
   ]
  },
  {
   "cell_type": "code",
   "execution_count": null,
   "metadata": {},
   "outputs": [],
   "source": [
    "### example code for set_energy(). Add this to you wolf object.  \n",
    "### Not meant to be excuted in this cell.\n",
    "\n",
    "    def set_energy(self, catch):\n",
    "        ## your Docstring here (5 pt)\n",
    "        \n",
    "        \n",
    "        lvl = self.energ_lvl\n",
    "        if catch == 1:\n",
    "            lvl = 100\n",
    "        else:\n",
    "            lvl = lvl - 1    \n",
    "         \n",
    "        self.energ_lvl = lvl\n",
    "        return   "
   ]
  },
  {
   "cell_type": "code",
   "execution_count": null,
   "metadata": {},
   "outputs": [],
   "source": [
    "### copy your wolf object here and add energ_lvl attribute\n",
    "### set the initial value of energy_lvl to be 100.\n",
    "### add set_energy( ) to this class (5 pt)\n",
    "\n",
    "\n",
    "\n"
   ]
  },
  {
   "cell_type": "markdown",
   "metadata": {},
   "source": [
    "---\n",
    "- **Test to see whether your wolf die of hunger** in the cell below."
   ]
  },
  {
   "cell_type": "code",
   "execution_count": null,
   "metadata": {},
   "outputs": [],
   "source": [
    "\n",
    "## create an empty list of pack\n",
    "pack = []\n",
    "\n",
    "for w in range(3):\n",
    "    ## add wolf to the pack\n",
    "    wf = wolf()\n",
    "    pack.append(wf)\n",
    "    \n",
    "## iterate over 125 time steps\n",
    "for d in range(125):\n",
    "\n",
    "    ## the next 2 lines below are for plotting\n",
    "    clear_output(wait=True)  \n",
    "    plt.figure(figsize=(6, 6))   \n",
    "    \n",
    "    \n",
    "    ## call the roaming method and then draw  \n",
    "    for w in range(np.size(pack)):\n",
    "        pack[w].roaming()\n",
    "        pack[w].draw()  \n",
    "        \n",
    "        # change wolves' energy level every day\n",
    "        pack[w].set_energy(0)\n",
    "     \n",
    "    \n",
    "    ## create a temp list\n",
    "    n_pack =[]\n",
    "    for k in range(np.size(pack)):\n",
    "        wf2 = pack[k]\n",
    "        if wf2.energ_lvl <= 0:   ## if wolf's energy <= 0, it dies\n",
    "            del wf2   \n",
    "        else:                    ## otherwise, it survives\n",
    "            n_pack.append(wf2)\n",
    "\n",
    "    ## replace the pack list by the survived wolves\n",
    "    pack.clear\n",
    "    pack = n_pack\n",
    "\n",
    "    ## the next 5 lines below are for plotting\n",
    "    plt.axes().set_aspect('equal')\n",
    "    plt.axes().set_xlim([-0,120])\n",
    "    plt.axes().set_ylim([-0,140])\n",
    "    plt.show()   \n",
    "    time.sleep(0.001)        "
   ]
  },
  {
   "cell_type": "markdown",
   "metadata": {},
   "source": [
    "**How many wolf at the end?**\n",
    "put the number of wolf in the cell below. (5 pt)"
   ]
  },
  {
   "cell_type": "markdown",
   "metadata": {},
   "source": [
    "<font size=+3>&#9998;</font> Do This - Erase the contents of this cell an put your answer here."
   ]
  },
  {
   "cell_type": "markdown",
   "metadata": {},
   "source": [
    "---\n",
    "### &#128721; STOP\n",
    "**Pause to commit your changes to your Git repository!**\n",
    "\n",
    "Take a moment to save your notebook, commit the changes to your Git repository using the commit message \"My wolf will die of hunger\", and push the changes to GitHub.\n",
    "\n",
    "---"
   ]
  },
  {
   "cell_type": "markdown",
   "metadata": {},
   "source": [
    "---\n",
    "- **The final piece of your wolf object is the method `prey( )`**.\n",
    "\n",
    "This method of the `wolf` class needs to do the following:\n",
    "1. Take in a sheep object as \"food\". \n",
    "2. Find the position of that sheep. \n",
    "3. Calculate the distance between the wolf and that sheep. You can use the formula to calculate distance: $dst = \\sqrt{ (w_x-s_x)^2 + (w_y-s_y)^2 }$, where ($w_x,w_y$) and ($s_x,s_y$) are the positions of wolf and sheep, respectively. \n",
    "4. If the distance is shorter than 5, the wolf catches the sheep. Return catch = 1. \n",
    "5. If the distance is longer than 5, return catch = 0.\n",
    "\n",
    "### <font color='blue'>This one will be the final functioning wolf class.</font>"
   ]
  },
  {
   "cell_type": "code",
   "execution_count": null,
   "metadata": {},
   "outputs": [],
   "source": [
    "### copy your wolf object here \n",
    "### add prey( ) to this class (10 pt)\n",
    "\n",
    "\n",
    "\n",
    "\n"
   ]
  },
  {
   "cell_type": "markdown",
   "metadata": {},
   "source": [
    "---\n",
    "### &#128721; STOP\n",
    "**Pause to commit your changes to your Git repository!**\n",
    "\n",
    "Take a moment to save your notebook, commit the changes to your Git repository using the commit message \"Done with wolf object\", and push the changes to GitHub.\n",
    "\n",
    "---"
   ]
  },
  {
   "cell_type": "markdown",
   "metadata": {},
   "source": [
    "---\n",
    "## Part 4. Assemble the prairie\n",
    "\n",
    "Now, we have sheep and wolf objects all done. The code below puts all ingradients together to simulate the population evolution on the prairie. **Read through the code and understand what it is doing.**  If your sheep and wolf objects are functioning properly, the code below should run fine."
   ]
  },
  {
   "cell_type": "code",
   "execution_count": null,
   "metadata": {},
   "outputs": [],
   "source": [
    "### Let's start with 40 sheeps and 5 wolves\n",
    "\n",
    "## flock list that contains sheeps\n",
    "flock = []\n",
    "for i in range(40):\n",
    "    flock.append(sheep())\n",
    "    \n",
    "## pack list that contains wolves    \n",
    "pack = []\n",
    "for i in range(5):\n",
    "    pack.append(wolf())\n",
    "\n",
    "## create a background of the prairie    \n",
    "pri = np.zeros([140,120,3])\n",
    "pri[:,:,1] = 1\n",
    "\n",
    "## the periods of sheep and wolf reproduce\n",
    "sh_bp = 100\n",
    "wf_bp = 120\n",
    "\n",
    "count = 0\n",
    "\n",
    "## solution\n",
    "wf_plr = []\n",
    "sh_plr = []\n",
    "## solution\n",
    "\n",
    "## iteration over 2001 days\n",
    "for d in range(2,2002):     \n",
    "    \n",
    "    \n",
    "    ## wolf roaming\n",
    "    for w in range(np.size(pack)):\n",
    "        wf = pack[w]\n",
    "        wf.roaming()\n",
    "\n",
    "    ## a temp list of sheep\n",
    "    n_flock = []\n",
    "    ## loop over each sheep    \n",
    "    for i in range(np.size(flock)): \n",
    "        sp = flock[i]\n",
    "        sp.roaming()     \n",
    "\n",
    "        ## check whether there are wolves around\n",
    "        for w in range(np.size(pack)):\n",
    "            wf = pack[w] \n",
    "            catch = wf.prey(sp)      \n",
    "            ## wolf eats sheep and gets energy\n",
    "            if catch == 1:\n",
    "                wf.set_energy(catch)\n",
    "                break\n",
    "        \n",
    "        ## if caught by a wolf, the sheep is killed\n",
    "        if catch == 1:\n",
    "            del sp\n",
    "        else:\n",
    "            n_flock.append(sp)\n",
    "    \n",
    "    ## replace old flock list with surviving sheeps\n",
    "    flock.clear\n",
    "    flock = n_flock \n",
    "    \n",
    "    ## sheep reproduce\n",
    "    if np.mod(d,sh_bp) == 1:\n",
    "        for j in range(np.size(flock)):\n",
    "            kid = flock[j].reproduce()\n",
    "            flock.append(kid)\n",
    " \n",
    "    ## wolf energy decay every day                \n",
    "    for w in range(np.size(pack)):\n",
    "        wf = pack[w] \n",
    "        wf.set_energy(0)\n",
    "        \n",
    "        \n",
    "    ## a temp list of sheep    \n",
    "    n_pack =[]\n",
    "    for w in range(np.size(pack)):\n",
    "        wf = pack[w]\n",
    "        ## wolf energy too low, it dies\n",
    "        if wf.energ_lvl <= 0:\n",
    "            del wf\n",
    "        else:\n",
    "            n_pack.append(wf)\n",
    "            \n",
    "    ## replace old pack list with surviving pack\n",
    "    pack.clear\n",
    "    pack = n_pack\n",
    "\n",
    "    ## wolf reproduce\n",
    "    if np.mod(d,wf_bp) == 1:\n",
    "        for w in range(np.size(pack)):\n",
    "            pup = pack[w].reproduce()\n",
    "            pack.append(pup)\n",
    "    \n",
    "\n",
    "    \n",
    "    \n",
    "    \n",
    "            \n",
    "    ## the next 4 lines are used to set up a stop point\n",
    "    ## the simulation will stop 210 steps after one of \n",
    "    ## the two species extinct\n",
    "    if np.size(pack) == 0 or np.size(flock) == 0:\n",
    "        count = count +1       \n",
    "    if count == 210:\n",
    "        break           \n",
    "           \n",
    "    ## visualization: plot every 10 time steps       \n",
    "    if np.mod(d,10) == 1:\n",
    "        clear_output(wait=True)  \n",
    "\n",
    "        plt.figure(figsize=(6, 6))\n",
    "        plt.imshow(pri)\n",
    "    \n",
    "        for w in range(np.size(pack)):\n",
    "            pack[w].draw()\n",
    "\n",
    "        for s in range(np.size(flock)):  \n",
    "            flock[s].draw()       \n",
    "\n",
    "        plt.axes().set_aspect('equal')\n",
    "        plt.axes().set_xlim([-0,120])\n",
    "        plt.axes().set_ylim([-0,140])\n",
    "        plt.show()   \n",
    "\n",
    "        time.sleep(0.001)   \n",
    "        \n",
    "        print('At', d,'day,',  '  There are ', np.size(flock), 'sheep.', \\\n",
    "              '  There are ', np.size(pack), 'wolf.')\n",
    "        "
   ]
  },
  {
   "cell_type": "markdown",
   "metadata": {},
   "source": [
    "---\n",
    "### &#128721; STOP\n",
    "**Pause to commit your changes to your Git repository!**\n",
    "\n",
    "Take a moment to save your notebook, commit the changes to your Git repository using the commit message \"My code can run well\", and push the changes to GitHub.\n",
    "\n",
    "---"
   ]
  },
  {
   "cell_type": "markdown",
   "metadata": {},
   "source": [
    "---\n",
    "## Part 5. Observing population evolution. (20 pt)\n",
    "\n",
    "- **You need to add a few lines of code to the prairie code above to record the sheep and wolf population over time.**\n",
    "- run the simulation at least five times. Plot the populations over time for each of those simulations. Your plot should look similar to the one at the top of the notebook."
   ]
  },
  {
   "cell_type": "code",
   "execution_count": null,
   "metadata": {},
   "outputs": [],
   "source": [
    "### your code to show the population evolution\n",
    "\n",
    "\n",
    "\n"
   ]
  },
  {
   "cell_type": "markdown",
   "metadata": {},
   "source": [
    "- **Summarize the observations in your words.** Is there a correlation between the populations of these two species? What is it? (10 pt)"
   ]
  },
  {
   "cell_type": "markdown",
   "metadata": {},
   "source": [
    "<font size=+3>&#9998;</font> Do This - Erase the contents of this cell an put your answer here."
   ]
  },
  {
   "cell_type": "markdown",
   "metadata": {},
   "source": [
    "- **If the sheep reproduction rate is lower (set sp_bp = 200 in Line18, meaning sheep can only reproduce every 200 days), what do you expect to happen in the popularion evolution?** (5 pt)"
   ]
  },
  {
   "cell_type": "markdown",
   "metadata": {},
   "source": [
    "<font size=+3>&#9998;</font> Do This - Erase the contents of this cell an put your answer  here."
   ]
  },
  {
   "cell_type": "markdown",
   "metadata": {},
   "source": [
    "- **Test it on the simulations. What do you observe?** (5 pt)"
   ]
  },
  {
   "cell_type": "markdown",
   "metadata": {},
   "source": [
    "<font size=+3>&#9998;</font> Do This - Erase the contents of this cell an put your answer here."
   ]
  },
  {
   "cell_type": "markdown",
   "metadata": {},
   "source": [
    "- **If the wolf reproduction rate is higher (set wf_bp = 60 in Line19, meaning wolf can  reproduce every 60 days), what do you expect to happen in the popularion evolution?** (5 pt)"
   ]
  },
  {
   "cell_type": "markdown",
   "metadata": {},
   "source": [
    "<font size=+3>&#9998;</font> Do This - Erase the contents of this cell an put your answer here."
   ]
  },
  {
   "cell_type": "markdown",
   "metadata": {},
   "source": [
    "- **Test it on the simulations. What do you observe?** (5 pt)"
   ]
  },
  {
   "cell_type": "markdown",
   "metadata": {},
   "source": [
    "<font size=+3>&#9998;</font> Do This - Erase the contents of this cell an put your answer here."
   ]
  },
  {
   "cell_type": "markdown",
   "metadata": {},
   "source": [
    "---\n",
    "## Part 6. Possible improvement. (10 pt)"
   ]
  },
  {
   "cell_type": "markdown",
   "metadata": {},
   "source": [
    "- **Think about what more can be added into the model to make the animal behavior more realistic.** List at least three more attributes or methods that can be included to the sheep or wolf objects to reflect animal behavior more realisitic. Describe what those attributes or methods will do, and how you would implement them in the class. (10 pt)"
   ]
  },
  {
   "cell_type": "markdown",
   "metadata": {},
   "source": [
    "<font size=+3>&#9998;</font> Do This - Erase the contents of this cell an put your answer here."
   ]
  },
  {
   "cell_type": "markdown",
   "metadata": {},
   "source": [
    "---\n",
    "### &#128721; STOP\n",
    "**Pause to commit your changes to your Git repository!**\n",
    "\n",
    "Take a moment to save your notebook, commit the changes to your Git repository using the commit message \"Assignment complete\", and push the changes to GitHub.\n",
    "\n",
    "---"
   ]
  },
  {
   "cell_type": "markdown",
   "metadata": {},
   "source": [
    "---\n",
    "## Assignment wrap-up\n",
    "\n",
    "Please fill out the form that appears when you run the code below.  **You must completely fill this out in order to receive credit for the assignment!**"
   ]
  },
  {
   "cell_type": "code",
   "execution_count": null,
   "metadata": {},
   "outputs": [],
   "source": [
    "from IPython.display import HTML\n",
    "HTML(\n",
    "\"\"\"\n",
    "<iframe \n",
    "\tsrc=\"https://forms.office.com/Pages/ResponsePage.aspx?id=MHEXIi9k2UGSEXQjetVofddd5T-Pwn1DlT6_yoCyuCFURTU1NUUxWUFYNEhKN0tJSU1RTlFWU0E4Sy4u\" \n",
    "\twidth=\"800px\" \n",
    "\theight=\"600px\" \n",
    "\tframeborder=\"0\" \n",
    "\tmarginheight=\"0\" \n",
    "\tmarginwidth=\"0\">\n",
    "\tLoading...\n",
    "</iframe>\n",
    "\"\"\"\n",
    ")"
   ]
  },
  {
   "cell_type": "markdown",
   "metadata": {},
   "source": [
    "### Congratulations, you're done!\n",
    "\n",
    "Submit this assignment by uploading it to the course Desire2Learn web page.  Go to the \"Homework Assignments\" folder, find the dropbox link for Homework #3, and upload it there."
   ]
  },
  {
   "cell_type": "markdown",
   "metadata": {},
   "source": [
    "&#169; Copyright 2020,  Department of Computational Mathematics, Science and Engineering at Michigan State University"
   ]
  }
 ],
 "metadata": {
  "kernelspec": {
   "display_name": "Python 3",
   "language": "python",
   "name": "python3"
  },
  "language_info": {
   "codemirror_mode": {
    "name": "ipython",
    "version": 3
   },
   "file_extension": ".py",
   "mimetype": "text/x-python",
   "name": "python",
   "nbconvert_exporter": "python",
   "pygments_lexer": "ipython3",
   "version": "3.7.3"
  }
 },
 "nbformat": 4,
 "nbformat_minor": 4
}
